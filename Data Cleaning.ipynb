{
 "cells": [
  {
   "cell_type": "markdown",
   "metadata": {},
   "source": [
    "# Data Cleaning"
   ]
  },
  {
   "cell_type": "markdown",
   "metadata": {},
   "source": [
    "## Import Libraries"
   ]
  },
  {
   "cell_type": "code",
   "execution_count": 1,
   "metadata": {},
   "outputs": [],
   "source": [
    "# Essentails \n",
    "import numpy as np\n",
    "import pandas as pd\n",
    "\n",
    "# Data visualization\n",
    "import matplotlib.pyplot as plt\n",
    "import seaborn as sns\n",
    "plt.style.use('fivethirtyeight')\n",
    "\n",
    "# Hide warnings\n",
    "import warnings\n",
    "warnings.filterwarnings('ignore')\n",
    "\n",
    "# Miscellaneous\n",
    "import re\n",
    "\n",
    "# Data processing\n",
    "from sklearn.preprocessing import FunctionTransformer\n",
    "from sklearn.preprocessing import MinMaxScaler\n",
    "from sklearn.preprocessing import LabelEncoder"
   ]
  },
  {
   "cell_type": "markdown",
   "metadata": {},
   "source": [
    "## Read in the Data"
   ]
  },
  {
   "cell_type": "code",
   "execution_count": 2,
   "metadata": {},
   "outputs": [],
   "source": [
    "# Load the training dataset\n",
    "train = pd.read_csv('train.csv')\n",
    "\n",
    "# Load the testing dataset\n",
    "test = pd.read_csv('test.csv')"
   ]
  },
  {
   "cell_type": "markdown",
   "metadata": {},
   "source": [
    "## Combine Data"
   ]
  },
  {
   "cell_type": "markdown",
   "metadata": {},
   "source": [
    "Combining the training and the testing dataset to make the cleaning process easier"
   ]
  },
  {
   "cell_type": "code",
   "execution_count": 3,
   "metadata": {},
   "outputs": [],
   "source": [
    "# Combine the two datasets using pd.concat\n",
    "combined = pd.concat((train, test), axis=0, ignore_index=True)"
   ]
  },
  {
   "cell_type": "code",
   "execution_count": 4,
   "metadata": {},
   "outputs": [
    {
     "name": "stdout",
     "output_type": "stream",
     "text": [
      "Shape of training data: (891, 12)\n"
     ]
    }
   ],
   "source": [
    "print('Shape of training data:', train.shape)"
   ]
  },
  {
   "cell_type": "code",
   "execution_count": 5,
   "metadata": {},
   "outputs": [
    {
     "name": "stdout",
     "output_type": "stream",
     "text": [
      "Shape of testing data: (418, 11)\n"
     ]
    }
   ],
   "source": [
    "print('Shape of testing data:', test.shape)"
   ]
  },
  {
   "cell_type": "code",
   "execution_count": 6,
   "metadata": {},
   "outputs": [
    {
     "name": "stdout",
     "output_type": "stream",
     "text": [
      "Shape of combined data: (1309, 12)\n"
     ]
    }
   ],
   "source": [
    "print('Shape of combined data:', combined.shape)"
   ]
  },
  {
   "cell_type": "code",
   "execution_count": 7,
   "metadata": {},
   "outputs": [],
   "source": [
    "# Drop passengerId as it does not contain any useful information\n",
    "train.drop('PassengerId', axis=1, inplace=True)\n",
    "combined.drop('PassengerId', axis=1, inplace=True)"
   ]
  },
  {
   "cell_type": "markdown",
   "metadata": {},
   "source": [
    "## Name Feature\n",
    "The name column is subdivided into 3: <br>\n",
    "* Title\n",
    "* First name \n",
    "* Last name\n",
    "    \n",
    "We can use regular expressions to extract the title from the name column of each person"
   ]
  },
  {
   "cell_type": "code",
   "execution_count": 9,
   "metadata": {},
   "outputs": [],
   "source": [
    "def extract_title(dataframe):\n",
    "    \"\"\"\n",
    "    Takes the dataframe as input and extracts the title from the name of each person.\n",
    "    \"\"\"\n",
    "    \n",
    "    titles = list() # Array to store the titles\n",
    "    \n",
    "    for i in dataframe.index:\n",
    "        titles.append(re.findall(r',\\s(.*?)\\.', dataframe.loc[i, 'Name']))\n",
    "        \n",
    "    return titles"
   ]
  },
  {
   "cell_type": "code",
   "execution_count": 10,
   "metadata": {},
   "outputs": [],
   "source": [
    "# Extracting and storing the titles in a list\n",
    "train_titles = extract_title(train)\n",
    "combined_titles = extract_title(combined)"
   ]
  },
  {
   "cell_type": "code",
   "execution_count": 11,
   "metadata": {},
   "outputs": [],
   "source": [
    "# Converting the list to a numpy array and then appending it to the training and combined datasets \n",
    "train['Titles'] = np.array(train_titles)\n",
    "combined['Titles'] = np.array(combined_titles)"
   ]
  },
  {
   "cell_type": "code",
   "execution_count": 12,
   "metadata": {},
   "outputs": [],
   "source": [
    "# Drop the Name column in both datasets as it is no longer needed\n",
    "train.drop('Name', axis=1, inplace=True)\n",
    "combined.drop('Name', axis=1, inplace=True)"
   ]
  },
  {
   "cell_type": "code",
   "execution_count": 13,
   "metadata": {},
   "outputs": [
    {
     "data": {
      "text/plain": [
       "Mr              757\n",
       "Miss            260\n",
       "Mrs             197\n",
       "Master           61\n",
       "Dr                8\n",
       "Rev               8\n",
       "Col               4\n",
       "Major             2\n",
       "Ms                2\n",
       "Mlle              2\n",
       "Jonkheer          1\n",
       "Capt              1\n",
       "Don               1\n",
       "the Countess      1\n",
       "Lady              1\n",
       "Mme               1\n",
       "Sir               1\n",
       "Dona              1\n",
       "Name: Titles, dtype: int64"
      ]
     },
     "execution_count": 13,
     "metadata": {},
     "output_type": "execute_result"
    }
   ],
   "source": [
    "combined['Titles'].value_counts()"
   ]
  },
  {
   "cell_type": "markdown",
   "metadata": {},
   "source": [
    "Let's replace these titles with more common ones. This will help reduce the number of features in our dataset, making our ML model faster "
   ]
  },
  {
   "cell_type": "code",
   "execution_count": 14,
   "metadata": {},
   "outputs": [],
   "source": [
    "def categorize_titles(dataset):\n",
    "    \"\"\"\n",
    "    Takes the dataset as input and categorizes titles into 7 sub-groups: Mr, Mrs, Master, Miss, Military, Royal, and Other\n",
    "    \"\"\"\n",
    "    \n",
    "    dataset['Titles'] = dataset['Titles'].replace(['Mlle', 'Ms'], 'Miss')\n",
    "    dataset['Titles'] = dataset['Titles'].replace('Mme', 'Mrs')\n",
    "    dataset['Titles'] = dataset['Titles'].replace(['Don', 'Jonkheer', 'Dona', 'Dr', 'Rev'], 'Other')\n",
    "    dataset['Titles'] = dataset['Titles'].replace(['Capt', 'Col', 'Major'], 'Military')\n",
    "    dataset['Titles'] = dataset['Titles'].replace(['Lady', 'the Countess', 'Sir'], 'Royal')"
   ]
  },
  {
   "cell_type": "code",
   "execution_count": 15,
   "metadata": {},
   "outputs": [],
   "source": [
    "# Calling the categorize_titles function on the training dataset\n",
    "categorize_titles(train)\n",
    "\n",
    "# Calling the categorize_titles function on the combined dataset\n",
    "categorize_titles(combined)"
   ]
  },
  {
   "cell_type": "code",
   "execution_count": 16,
   "metadata": {},
   "outputs": [
    {
     "data": {
      "text/plain": [
       "Mr          757\n",
       "Miss        264\n",
       "Mrs         198\n",
       "Master       61\n",
       "Other        19\n",
       "Military      7\n",
       "Royal         3\n",
       "Name: Titles, dtype: int64"
      ]
     },
     "execution_count": 16,
     "metadata": {},
     "output_type": "execute_result"
    }
   ],
   "source": [
    "combined['Titles'].value_counts()"
   ]
  },
  {
   "cell_type": "code",
   "execution_count": 17,
   "metadata": {},
   "outputs": [
    {
     "name": "stdout",
     "output_type": "stream",
     "text": [
      "Percentage of Title = Royal who survived: 100.0 %\n",
      "Percentage of Title = Mrs who survived: 79.37 %\n",
      "Percentage of Title = Miss who survived: 70.27 %\n",
      "Percentage of Title = Master who survived: 57.5 %\n",
      "Percentage of Title = Military who survived: 40.0 %\n",
      "Percentage of Title = Mr who survived: 15.67 %\n"
     ]
    },
    {
     "data": {
      "image/png": "[encoded data removed]",
      "text/plain": [
       "<Figure size 504x360 with 1 Axes>"
      ]
     },
     "metadata": {},
     "output_type": "display_data"
    }
   ],
   "source": [
    "print('Percentage of Title = Royal who survived:', round(train.groupby('Titles')['Survived'].value_counts(normalize=True)['Royal'][1] * 100, 2), '%')\n",
    "print('Percentage of Title = Mrs who survived:', round(train.groupby('Titles')['Survived'].value_counts(normalize=True)['Mrs'][1] * 100, 2), '%')\n",
    "print('Percentage of Title = Miss who survived:', round(train.groupby('Titles')['Survived'].value_counts(normalize=True)['Miss'][1] * 100, 2), '%')\n",
    "print('Percentage of Title = Master who survived:', round(train.groupby('Titles')['Survived'].value_counts(normalize=True)['Master'][1] * 100, 2), '%')\n",
    "print('Percentage of Title = Military who survived:', round(train.groupby('Titles')['Survived'].value_counts(normalize=True)['Military'][1] * 100, 2), '%')\n",
    "print('Percentage of Title = Mr who survived:', round(train.groupby('Titles')['Survived'].value_counts(normalize=True)['Mr'][1] * 100, 2), '%')\n",
    "\n",
    "\n",
    "# Resize the plot\n",
    "plt.figure(figsize=(7, 5))\n",
    "\n",
    "# Plot a barplot for Titles vs Survived\n",
    "sns.barplot(x=train['Titles'], y=train['Survived'], errwidth=0)\n",
    "plt.show()"
   ]
  },
  {
   "cell_type": "markdown",
   "metadata": {},
   "source": [
    "## Fix Missing Values in the Age Feature"
   ]
  },
  {
   "cell_type": "code",
   "execution_count": 18,
   "metadata": {},
   "outputs": [],
   "source": [
    "# Create a new dataframe by merging the age column and the title column\n",
    "missing_age = pd.concat((combined['Age'], combined['Titles']), axis=1, ignore_index=True)\n",
    "missing_age.columns = ['Age', 'Titles']"
   ]
  },
  {
   "cell_type": "code",
   "execution_count": 19,
   "metadata": {},
   "outputs": [],
   "source": [
    "# Median age grouped by title\n",
    "median_age_grp = train.groupby('Titles')['Age'].median()"
   ]
  },
  {
   "cell_type": "code",
   "execution_count": 20,
   "metadata": {},
   "outputs": [
    {
     "data": {
      "text/plain": [
       "Titles\n",
       "Master       3.5\n",
       "Military    56.0\n",
       "Miss        21.0\n",
       "Mr          30.0\n",
       "Mrs         35.0\n",
       "Other       43.0\n",
       "Royal       48.0\n",
       "Name: Age, dtype: float64"
      ]
     },
     "execution_count": 20,
     "metadata": {},
     "output_type": "execute_result"
    }
   ],
   "source": [
    "median_age_grp"
   ]
  },
  {
   "cell_type": "code",
   "execution_count": 21,
   "metadata": {},
   "outputs": [
    {
     "data": {
      "image/png": "[encoded data removed]",
      "text/plain": [
       "<Figure size 432x288 with 1 Axes>"
      ]
     },
     "metadata": {},
     "output_type": "display_data"
    }
   ],
   "source": [
    "# Stem-plot to plot median age for all titles\n",
    "plt.stem(median_age_grp)\n",
    "\n",
    "# Renaming labels of the X-axis \n",
    "plt.xticks(ticks=[0, 1, 2, 3, 4, 5, 6], labels=median_age_grp.index, rotation=60)\n",
    "\n",
    "# Rename X and Y axis\n",
    "plt.xlabel('Title')\n",
    "plt.ylabel('Median Age')\n",
    "plt.show()"
   ]
  },
  {
   "cell_type": "code",
   "execution_count": 22,
   "metadata": {},
   "outputs": [],
   "source": [
    "def impute_age(dataset):\n",
    "    \"\"\"\n",
    "    Takes the dataset as input and fills in the missing values for the age column.\n",
    "    \n",
    "    \"\"\"\n",
    "    \n",
    "    for i in range(dataset.shape[0]):\n",
    "        if np.isnan(dataset.loc[i, 'Age']):\n",
    "            dataset.loc[i, 'Age'] = median_age_grp[dataset.loc[i, 'Titles']]"
   ]
  },
  {
   "cell_type": "code",
   "execution_count": 23,
   "metadata": {},
   "outputs": [],
   "source": [
    "# Fill in the missing values for the age column\n",
    "impute_age(train)\n",
    "impute_age(combined)"
   ]
  },
  {
   "cell_type": "code",
   "execution_count": 24,
   "metadata": {},
   "outputs": [
    {
     "data": {
      "text/plain": [
       "Survived     418\n",
       "Pclass         0\n",
       "Sex            0\n",
       "Age            0\n",
       "SibSp          0\n",
       "Parch          0\n",
       "Ticket         0\n",
       "Fare           1\n",
       "Cabin       1014\n",
       "Embarked       2\n",
       "Titles         0\n",
       "dtype: int64"
      ]
     },
     "execution_count": 24,
     "metadata": {},
     "output_type": "execute_result"
    }
   ],
   "source": [
    "# Check for missing values\n",
    "combined.isnull().sum()"
   ]
  },
  {
   "cell_type": "markdown",
   "metadata": {},
   "source": [
    "Hurray! No more missing data points in the Age column!\n",
    "\n",
    "Let's move on to the next feature"
   ]
  },
  {
   "cell_type": "markdown",
   "metadata": {},
   "source": [
    "## Cabin Feature\n",
    "\n",
    "The Cabin feature has 1000 (77.4 %) missing values. Since so much of the feature is missing, it would be hard to fill in the missing values.\n",
    "\n",
    "What we could do instead is create a new binary variable that stores information regarding the cabin.\n",
    "* Recorded cabin number = True\n",
    "* No recorded cabin number = False"
   ]
  },
  {
   "cell_type": "code",
   "execution_count": 25,
   "metadata": {},
   "outputs": [],
   "source": [
    "# RecordedCabinNumber = 1 if the corresponding Cabin value is not missing, otherwise RecordedCabinNumber = 0\n",
    "train['RecordedCabinNumber'] = (train['Cabin'].notnull().astype(int))\n",
    "combined['RecordedCabinNumber'] = (combined['Cabin'].notnull().astype(int))"
   ]
  },
  {
   "cell_type": "code",
   "execution_count": 26,
   "metadata": {},
   "outputs": [
    {
     "data": {
      "text/html": [
       "<div>\n",
       "<style scoped>\n",
       "    .dataframe tbody tr th:only-of-type {\n",
       "        vertical-align: middle;\n",
       "    }\n",
       "\n",
       "    .dataframe tbody tr th {\n",
       "        vertical-align: top;\n",
       "    }\n",
       "\n",
       "    .dataframe thead th {\n",
       "        text-align: right;\n",
       "    }\n",
       "</style>\n",
       "<table border=\"1\" class=\"dataframe\">\n",
       "  <thead>\n",
       "    <tr style=\"text-align: right;\">\n",
       "      <th></th>\n",
       "      <th>Survived</th>\n",
       "      <th>Pclass</th>\n",
       "      <th>Sex</th>\n",
       "      <th>Age</th>\n",
       "      <th>SibSp</th>\n",
       "      <th>Parch</th>\n",
       "      <th>Ticket</th>\n",
       "      <th>Fare</th>\n",
       "      <th>Cabin</th>\n",
       "      <th>Embarked</th>\n",
       "      <th>Titles</th>\n",
       "      <th>RecordedCabinNumber</th>\n",
       "    </tr>\n",
       "  </thead>\n",
       "  <tbody>\n",
       "    <tr>\n",
       "      <th>0</th>\n",
       "      <td>0.0</td>\n",
       "      <td>3</td>\n",
       "      <td>male</td>\n",
       "      <td>22.0</td>\n",
       "      <td>1</td>\n",
       "      <td>0</td>\n",
       "      <td>A/5 21171</td>\n",
       "      <td>7.2500</td>\n",
       "      <td>NaN</td>\n",
       "      <td>S</td>\n",
       "      <td>Mr</td>\n",
       "      <td>0</td>\n",
       "    </tr>\n",
       "    <tr>\n",
       "      <th>1</th>\n",
       "      <td>1.0</td>\n",
       "      <td>1</td>\n",
       "      <td>female</td>\n",
       "      <td>38.0</td>\n",
       "      <td>1</td>\n",
       "      <td>0</td>\n",
       "      <td>PC 17599</td>\n",
       "      <td>71.2833</td>\n",
       "      <td>C85</td>\n",
       "      <td>C</td>\n",
       "      <td>Mrs</td>\n",
       "      <td>1</td>\n",
       "    </tr>\n",
       "    <tr>\n",
       "      <th>2</th>\n",
       "      <td>1.0</td>\n",
       "      <td>3</td>\n",
       "      <td>female</td>\n",
       "      <td>26.0</td>\n",
       "      <td>0</td>\n",
       "      <td>0</td>\n",
       "      <td>STON/O2. 3101282</td>\n",
       "      <td>7.9250</td>\n",
       "      <td>NaN</td>\n",
       "      <td>S</td>\n",
       "      <td>Miss</td>\n",
       "      <td>0</td>\n",
       "    </tr>\n",
       "    <tr>\n",
       "      <th>3</th>\n",
       "      <td>1.0</td>\n",
       "      <td>1</td>\n",
       "      <td>female</td>\n",
       "      <td>35.0</td>\n",
       "      <td>1</td>\n",
       "      <td>0</td>\n",
       "      <td>113803</td>\n",
       "      <td>53.1000</td>\n",
       "      <td>C123</td>\n",
       "      <td>S</td>\n",
       "      <td>Mrs</td>\n",
       "      <td>1</td>\n",
       "    </tr>\n",
       "    <tr>\n",
       "      <th>4</th>\n",
       "      <td>0.0</td>\n",
       "      <td>3</td>\n",
       "      <td>male</td>\n",
       "      <td>35.0</td>\n",
       "      <td>0</td>\n",
       "      <td>0</td>\n",
       "      <td>373450</td>\n",
       "      <td>8.0500</td>\n",
       "      <td>NaN</td>\n",
       "      <td>S</td>\n",
       "      <td>Mr</td>\n",
       "      <td>0</td>\n",
       "    </tr>\n",
       "  </tbody>\n",
       "</table>\n",
       "</div>"
      ],
      "text/plain": [
       "   Survived  Pclass     Sex   Age  SibSp  Parch            Ticket     Fare  \\\n",
       "0       0.0       3    male  22.0      1      0         A/5 21171   7.2500   \n",
       "1       1.0       1  female  38.0      1      0          PC 17599  71.2833   \n",
       "2       1.0       3  female  26.0      0      0  STON/O2. 3101282   7.9250   \n",
       "3       1.0       1  female  35.0      1      0            113803  53.1000   \n",
       "4       0.0       3    male  35.0      0      0            373450   8.0500   \n",
       "\n",
       "  Cabin Embarked Titles  RecordedCabinNumber  \n",
       "0   NaN        S     Mr                    0  \n",
       "1   C85        C    Mrs                    1  \n",
       "2   NaN        S   Miss                    0  \n",
       "3  C123        S    Mrs                    1  \n",
       "4   NaN        S     Mr                    0  "
      ]
     },
     "execution_count": 26,
     "metadata": {},
     "output_type": "execute_result"
    }
   ],
   "source": [
    "combined.head()"
   ]
  },
  {
   "cell_type": "code",
   "execution_count": 27,
   "metadata": {},
   "outputs": [
    {
     "name": "stdout",
     "output_type": "stream",
     "text": [
      "Percentage of people with a recorded cabin number who survived: 66.67 %\n",
      "Percentage of people without a recorded cabin number who survived: 29.99 %\n"
     ]
    },
    {
     "data": {
      "image/png": "[encoded data removed]",
      "text/plain": [
       "<Figure size 504x360 with 1 Axes>"
      ]
     },
     "metadata": {},
     "output_type": "display_data"
    }
   ],
   "source": [
    "print('Percentage of people with a recorded cabin number who survived:', round(train.groupby('RecordedCabinNumber')['Survived'].value_counts(normalize=True)[1][1] * 100, 2), '%')\n",
    "print('Percentage of people without a recorded cabin number who survived:', round(train.groupby('RecordedCabinNumber')['Survived'].value_counts(normalize=True)[0][1] * 100, 2), '%')\n",
    "\n",
    "# Resize the plot\n",
    "plt.figure(figsize=(7, 5))\n",
    "\n",
    "# Plot a barplot for Titles vs Survived\n",
    "sns.barplot(x=train['RecordedCabinNumber'], y=train['Survived'], errwidth=0)\n",
    "plt.show()"
   ]
  },
  {
   "cell_type": "code",
   "execution_count": 28,
   "metadata": {},
   "outputs": [],
   "source": [
    "# Drop the Cabin column from both datasets as it is no longer necessary\n",
    "train.drop('Cabin', axis=1, inplace=True)\n",
    "combined.drop('Cabin', axis=1, inplace=True)"
   ]
  },
  {
   "cell_type": "markdown",
   "metadata": {},
   "source": [
    "## Embarked Feature\n",
    "Since the Embarked feature has only 2 missing values in the training dataset, we can simply remove those observations from the training and the combined datasets. "
   ]
  },
  {
   "cell_type": "code",
   "execution_count": 29,
   "metadata": {},
   "outputs": [],
   "source": [
    "missing_embarked = train['Embarked'].isnull().loc[lambda x: x==True].index"
   ]
  },
  {
   "cell_type": "code",
   "execution_count": 30,
   "metadata": {},
   "outputs": [],
   "source": [
    "train.drop(missing_embarked, axis=0, inplace=True)\n",
    "combined.drop(missing_embarked, axis=0, inplace=True)"
   ]
  },
  {
   "cell_type": "markdown",
   "metadata": {},
   "source": [
    "## Fare Feature"
   ]
  },
  {
   "cell_type": "code",
   "execution_count": 31,
   "metadata": {},
   "outputs": [
    {
     "data": {
      "text/plain": [
       "Int64Index([1043], dtype='int64')"
      ]
     },
     "execution_count": 31,
     "metadata": {},
     "output_type": "execute_result"
    }
   ],
   "source": [
    "# Locate index of rows in the Fare column that have the value of NA \n",
    "combined['Fare'].isnull().loc[lambda x: x==True].index"
   ]
  },
  {
   "cell_type": "code",
   "execution_count": 32,
   "metadata": {},
   "outputs": [
    {
     "data": {
      "text/plain": [
       "Survived                   NaN\n",
       "Pclass                       3\n",
       "Sex                       male\n",
       "Age                         13\n",
       "SibSp                        4\n",
       "Parch                        2\n",
       "Ticket                  347077\n",
       "Fare                   31.3875\n",
       "Embarked                     S\n",
       "Titles                  Master\n",
       "RecordedCabinNumber          0\n",
       "Name: 1045, dtype: object"
      ]
     },
     "execution_count": 32,
     "metadata": {},
     "output_type": "execute_result"
    }
   ],
   "source": [
    "# Display the row with the missing data point\n",
    "combined.iloc[1043]"
   ]
  },
  {
   "cell_type": "code",
   "execution_count": 33,
   "metadata": {},
   "outputs": [],
   "source": [
    "# Impute the missing value based on the median passenger fare for that port of embarkation.\n",
    "combined['Fare'].fillna(train.groupby('Embarked')['Fare'].median()['S'], inplace=True)"
   ]
  },
  {
   "cell_type": "code",
   "execution_count": 34,
   "metadata": {},
   "outputs": [
    {
     "data": {
      "text/plain": [
       "Survived                NaN\n",
       "Pclass                    3\n",
       "Sex                    male\n",
       "Age                    60.5\n",
       "SibSp                     0\n",
       "Parch                     0\n",
       "Ticket                 3701\n",
       "Fare                     13\n",
       "Embarked                  S\n",
       "Titles                   Mr\n",
       "RecordedCabinNumber       0\n",
       "Name: 1043, dtype: object"
      ]
     },
     "execution_count": 34,
     "metadata": {},
     "output_type": "execute_result"
    }
   ],
   "source": [
    "# Display the row again\n",
    "combined.loc[1043]"
   ]
  },
  {
   "cell_type": "code",
   "execution_count": 35,
   "metadata": {},
   "outputs": [
    {
     "data": {
      "text/plain": [
       "Survived               418\n",
       "Pclass                   0\n",
       "Sex                      0\n",
       "Age                      0\n",
       "SibSp                    0\n",
       "Parch                    0\n",
       "Ticket                   0\n",
       "Fare                     0\n",
       "Embarked                 0\n",
       "Titles                   0\n",
       "RecordedCabinNumber      0\n",
       "dtype: int64"
      ]
     },
     "execution_count": 35,
     "metadata": {},
     "output_type": "execute_result"
    }
   ],
   "source": [
    "# Check for missing values\n",
    "combined.isnull().sum()"
   ]
  },
  {
   "cell_type": "markdown",
   "metadata": {},
   "source": [
    "No more missing values in our dataset!"
   ]
  },
  {
   "cell_type": "code",
   "execution_count": 36,
   "metadata": {},
   "outputs": [],
   "source": [
    "# Drop the ticket column from both datasets since it does not yield any useful information\n",
    "train.drop('Ticket', axis=1, inplace=True)\n",
    "combined.drop('Ticket', axis=1, inplace=True)"
   ]
  },
  {
   "cell_type": "markdown",
   "metadata": {},
   "source": [
    "## SibSp and Parch"
   ]
  },
  {
   "cell_type": "code",
   "execution_count": 37,
   "metadata": {},
   "outputs": [],
   "source": [
    "def is_alone(dataset):\n",
    "    \"\"\"\n",
    "    If the passenger is traveling alone: isAlone = 1\n",
    "    If the passenger is not traveling alone: isAlone = 0\n",
    "    \"\"\"\n",
    "    for i in dataset.index:\n",
    "        if dataset.loc[i, 'SibSp'] == 0 and dataset.loc[i, 'Parch'] == 0:\n",
    "            dataset.loc[i, 'isAlone'] = 1\n",
    "        else:\n",
    "            dataset.loc[i, 'isAlone'] = 0"
   ]
  },
  {
   "cell_type": "code",
   "execution_count": 38,
   "metadata": {},
   "outputs": [],
   "source": [
    "is_alone(train)\n",
    "is_alone(combined)"
   ]
  },
  {
   "cell_type": "code",
   "execution_count": 39,
   "metadata": {},
   "outputs": [
    {
     "name": "stdout",
     "output_type": "stream",
     "text": [
      "Percentage of isAlone = True who survived: 30.09 %\n",
      "Percentage of isAlone = False who survived: 50.56 %\n"
     ]
    },
    {
     "data": {
      "image/png": "[encoded data removed]",
      "text/plain": [
       "<Figure size 504x360 with 1 Axes>"
      ]
     },
     "metadata": {},
     "output_type": "display_data"
    }
   ],
   "source": [
    "print('Percentage of isAlone = True who survived:', round(train.groupby('isAlone')['Survived'].value_counts(normalize=True)[1][1] * 100, 2), '%')\n",
    "print('Percentage of isAlone = False who survived:', round(train.groupby('isAlone')['Survived'].value_counts(normalize=True)[0][1] * 100, 2), '%')\n",
    "\n",
    "# Resize the plot\n",
    "plt.figure(figsize=(7, 5))\n",
    "\n",
    "# Plot a barplot for isAlone vs Survived\n",
    "sns.barplot(x=train['isAlone'], y=train['Survived'], errwidth=0)\n",
    "plt.show()"
   ]
  },
  {
   "cell_type": "code",
   "execution_count": 40,
   "metadata": {},
   "outputs": [],
   "source": [
    "# Remove SibSp and Parch from both datasets\n",
    "train.drop(['SibSp', 'Parch'], axis=1, inplace=True)\n",
    "combined.drop(['SibSp', 'Parch'], axis=1, inplace=True)"
   ]
  },
  {
   "cell_type": "markdown",
   "metadata": {},
   "source": [
    "## Encode Categorical Features"
   ]
  },
  {
   "cell_type": "code",
   "execution_count": 41,
   "metadata": {},
   "outputs": [],
   "source": [
    "# Select categorical features with more than 3 unique values\n",
    "categorical_features = pd.concat((combined['Embarked'], combined['Titles']), axis=1) "
   ]
  },
  {
   "cell_type": "code",
   "execution_count": 42,
   "metadata": {},
   "outputs": [],
   "source": [
    "# One-hot encode all categorical features with more than 3 unique values\n",
    "encoded_features = pd.get_dummies(categorical_features)"
   ]
  },
  {
   "cell_type": "code",
   "execution_count": 43,
   "metadata": {},
   "outputs": [
    {
     "data": {
      "text/html": [
       "<div>\n",
       "<style scoped>\n",
       "    .dataframe tbody tr th:only-of-type {\n",
       "        vertical-align: middle;\n",
       "    }\n",
       "\n",
       "    .dataframe tbody tr th {\n",
       "        vertical-align: top;\n",
       "    }\n",
       "\n",
       "    .dataframe thead th {\n",
       "        text-align: right;\n",
       "    }\n",
       "</style>\n",
       "<table border=\"1\" class=\"dataframe\">\n",
       "  <thead>\n",
       "    <tr style=\"text-align: right;\">\n",
       "      <th></th>\n",
       "      <th>Embarked_C</th>\n",
       "      <th>Embarked_Q</th>\n",
       "      <th>Embarked_S</th>\n",
       "      <th>Titles_Master</th>\n",
       "      <th>Titles_Military</th>\n",
       "      <th>Titles_Miss</th>\n",
       "      <th>Titles_Mr</th>\n",
       "      <th>Titles_Mrs</th>\n",
       "      <th>Titles_Other</th>\n",
       "      <th>Titles_Royal</th>\n",
       "    </tr>\n",
       "  </thead>\n",
       "  <tbody>\n",
       "    <tr>\n",
       "      <th>0</th>\n",
       "      <td>0</td>\n",
       "      <td>0</td>\n",
       "      <td>1</td>\n",
       "      <td>0</td>\n",
       "      <td>0</td>\n",
       "      <td>0</td>\n",
       "      <td>1</td>\n",
       "      <td>0</td>\n",
       "      <td>0</td>\n",
       "      <td>0</td>\n",
       "    </tr>\n",
       "    <tr>\n",
       "      <th>1</th>\n",
       "      <td>1</td>\n",
       "      <td>0</td>\n",
       "      <td>0</td>\n",
       "      <td>0</td>\n",
       "      <td>0</td>\n",
       "      <td>0</td>\n",
       "      <td>0</td>\n",
       "      <td>1</td>\n",
       "      <td>0</td>\n",
       "      <td>0</td>\n",
       "    </tr>\n",
       "    <tr>\n",
       "      <th>2</th>\n",
       "      <td>0</td>\n",
       "      <td>0</td>\n",
       "      <td>1</td>\n",
       "      <td>0</td>\n",
       "      <td>0</td>\n",
       "      <td>1</td>\n",
       "      <td>0</td>\n",
       "      <td>0</td>\n",
       "      <td>0</td>\n",
       "      <td>0</td>\n",
       "    </tr>\n",
       "    <tr>\n",
       "      <th>3</th>\n",
       "      <td>0</td>\n",
       "      <td>0</td>\n",
       "      <td>1</td>\n",
       "      <td>0</td>\n",
       "      <td>0</td>\n",
       "      <td>0</td>\n",
       "      <td>0</td>\n",
       "      <td>1</td>\n",
       "      <td>0</td>\n",
       "      <td>0</td>\n",
       "    </tr>\n",
       "    <tr>\n",
       "      <th>4</th>\n",
       "      <td>0</td>\n",
       "      <td>0</td>\n",
       "      <td>1</td>\n",
       "      <td>0</td>\n",
       "      <td>0</td>\n",
       "      <td>0</td>\n",
       "      <td>1</td>\n",
       "      <td>0</td>\n",
       "      <td>0</td>\n",
       "      <td>0</td>\n",
       "    </tr>\n",
       "  </tbody>\n",
       "</table>\n",
       "</div>"
      ],
      "text/plain": [
       "   Embarked_C  Embarked_Q  Embarked_S  Titles_Master  Titles_Military  \\\n",
       "0           0           0           1              0                0   \n",
       "1           1           0           0              0                0   \n",
       "2           0           0           1              0                0   \n",
       "3           0           0           1              0                0   \n",
       "4           0           0           1              0                0   \n",
       "\n",
       "   Titles_Miss  Titles_Mr  Titles_Mrs  Titles_Other  Titles_Royal  \n",
       "0            0          1           0             0             0  \n",
       "1            0          0           1             0             0  \n",
       "2            1          0           0             0             0  \n",
       "3            0          0           1             0             0  \n",
       "4            0          1           0             0             0  "
      ]
     },
     "execution_count": 43,
     "metadata": {},
     "output_type": "execute_result"
    }
   ],
   "source": [
    "# Preview one-hot encoded features\n",
    "encoded_features.head()"
   ]
  },
  {
   "cell_type": "code",
   "execution_count": 44,
   "metadata": {},
   "outputs": [],
   "source": [
    "# Converting the Sex column to 1s and 0s\n",
    "le = LabelEncoder()\n",
    "le.fit(train['Sex'].values)\n",
    "\n",
    "# Replacing the Sex column with numerical values \n",
    "train['Sex'] = le.transform(train['Sex'].values)\n",
    "combined['Sex'] = le.transform(combined['Sex'].values)"
   ]
  },
  {
   "cell_type": "code",
   "execution_count": 45,
   "metadata": {},
   "outputs": [],
   "source": [
    "# Delete the Embarked and the Titles column as it is no longer needed\n",
    "combined.drop(['Embarked', 'Titles'], axis=1, inplace=True)"
   ]
  },
  {
   "cell_type": "code",
   "execution_count": 46,
   "metadata": {},
   "outputs": [],
   "source": [
    "# Append the encoded features to the combined dataset\n",
    "combined = pd.concat((combined, encoded_features), axis=1)"
   ]
  },
  {
   "cell_type": "markdown",
   "metadata": {},
   "source": [
    "## Scaling and Transforming Continuous Features"
   ]
  },
  {
   "cell_type": "code",
   "execution_count": 47,
   "metadata": {},
   "outputs": [],
   "source": [
    "# Coverting the age column in the training and combined dataset to a numpy array\n",
    "age_train = train['Age'].values.reshape(-1, 1)\n",
    "age_combined = combined['Age'].values.reshape(-1, 1)\n",
    "\n",
    "# Coverting the fare column in the combined dataset to a numpy array\n",
    "fare = combined['Fare'].values"
   ]
  },
  {
   "cell_type": "code",
   "execution_count": 48,
   "metadata": {},
   "outputs": [
    {
     "name": "stdout",
     "output_type": "stream",
     "text": [
      "[80.]\n",
      "[0.42]\n"
     ]
    }
   ],
   "source": [
    "print(max(age_train))\n",
    "print(min(age_train))"
   ]
  },
  {
   "cell_type": "code",
   "execution_count": 49,
   "metadata": {},
   "outputs": [],
   "source": [
    "# Instantiate MinMaxScaler object\n",
    "scaler_age = MinMaxScaler()\n",
    "\n",
    "# Fit the scaler only on the training data to avoid data leakage\n",
    "scaler_age.fit(age_train)\n",
    "\n",
    "# Apply the transform on the combined dataset \n",
    "age_combined = scaler_age.transform(age_combined)"
   ]
  },
  {
   "cell_type": "code",
   "execution_count": 50,
   "metadata": {
    "scrolled": true
   },
   "outputs": [],
   "source": [
    "ft = FunctionTransformer(lambda x: np.log10(x+1))\n",
    "fare = ft.transform(fare)"
   ]
  },
  {
   "cell_type": "code",
   "execution_count": 51,
   "metadata": {},
   "outputs": [],
   "source": [
    "train['Age'] = age_train\n",
    "combined['Age'] = age_combined\n",
    "combined['Fare'] = fare"
   ]
  },
  {
   "cell_type": "code",
   "execution_count": 52,
   "metadata": {},
   "outputs": [
    {
     "data": {
      "text/html": [
       "<div>\n",
       "<style scoped>\n",
       "    .dataframe tbody tr th:only-of-type {\n",
       "        vertical-align: middle;\n",
       "    }\n",
       "\n",
       "    .dataframe tbody tr th {\n",
       "        vertical-align: top;\n",
       "    }\n",
       "\n",
       "    .dataframe thead th {\n",
       "        text-align: right;\n",
       "    }\n",
       "</style>\n",
       "<table border=\"1\" class=\"dataframe\">\n",
       "  <thead>\n",
       "    <tr style=\"text-align: right;\">\n",
       "      <th></th>\n",
       "      <th>Survived</th>\n",
       "      <th>Pclass</th>\n",
       "      <th>Sex</th>\n",
       "      <th>Age</th>\n",
       "      <th>Fare</th>\n",
       "      <th>RecordedCabinNumber</th>\n",
       "      <th>isAlone</th>\n",
       "      <th>Embarked_C</th>\n",
       "      <th>Embarked_Q</th>\n",
       "      <th>Embarked_S</th>\n",
       "      <th>Titles_Master</th>\n",
       "      <th>Titles_Military</th>\n",
       "      <th>Titles_Miss</th>\n",
       "      <th>Titles_Mr</th>\n",
       "      <th>Titles_Mrs</th>\n",
       "      <th>Titles_Other</th>\n",
       "      <th>Titles_Royal</th>\n",
       "    </tr>\n",
       "  </thead>\n",
       "  <tbody>\n",
       "    <tr>\n",
       "      <th>0</th>\n",
       "      <td>0.0</td>\n",
       "      <td>3</td>\n",
       "      <td>1</td>\n",
       "      <td>0.271174</td>\n",
       "      <td>0.916454</td>\n",
       "      <td>0</td>\n",
       "      <td>0.0</td>\n",
       "      <td>0</td>\n",
       "      <td>0</td>\n",
       "      <td>1</td>\n",
       "      <td>0</td>\n",
       "      <td>0</td>\n",
       "      <td>0</td>\n",
       "      <td>1</td>\n",
       "      <td>0</td>\n",
       "      <td>0</td>\n",
       "      <td>0</td>\n",
       "    </tr>\n",
       "    <tr>\n",
       "      <th>1</th>\n",
       "      <td>1.0</td>\n",
       "      <td>1</td>\n",
       "      <td>0</td>\n",
       "      <td>0.472229</td>\n",
       "      <td>1.859038</td>\n",
       "      <td>1</td>\n",
       "      <td>0.0</td>\n",
       "      <td>1</td>\n",
       "      <td>0</td>\n",
       "      <td>0</td>\n",
       "      <td>0</td>\n",
       "      <td>0</td>\n",
       "      <td>0</td>\n",
       "      <td>0</td>\n",
       "      <td>1</td>\n",
       "      <td>0</td>\n",
       "      <td>0</td>\n",
       "    </tr>\n",
       "    <tr>\n",
       "      <th>2</th>\n",
       "      <td>1.0</td>\n",
       "      <td>3</td>\n",
       "      <td>0</td>\n",
       "      <td>0.321438</td>\n",
       "      <td>0.950608</td>\n",
       "      <td>0</td>\n",
       "      <td>1.0</td>\n",
       "      <td>0</td>\n",
       "      <td>0</td>\n",
       "      <td>1</td>\n",
       "      <td>0</td>\n",
       "      <td>0</td>\n",
       "      <td>1</td>\n",
       "      <td>0</td>\n",
       "      <td>0</td>\n",
       "      <td>0</td>\n",
       "      <td>0</td>\n",
       "    </tr>\n",
       "    <tr>\n",
       "      <th>3</th>\n",
       "      <td>1.0</td>\n",
       "      <td>1</td>\n",
       "      <td>0</td>\n",
       "      <td>0.434531</td>\n",
       "      <td>1.733197</td>\n",
       "      <td>1</td>\n",
       "      <td>0.0</td>\n",
       "      <td>0</td>\n",
       "      <td>0</td>\n",
       "      <td>1</td>\n",
       "      <td>0</td>\n",
       "      <td>0</td>\n",
       "      <td>0</td>\n",
       "      <td>0</td>\n",
       "      <td>1</td>\n",
       "      <td>0</td>\n",
       "      <td>0</td>\n",
       "    </tr>\n",
       "    <tr>\n",
       "      <th>4</th>\n",
       "      <td>0.0</td>\n",
       "      <td>3</td>\n",
       "      <td>1</td>\n",
       "      <td>0.434531</td>\n",
       "      <td>0.956649</td>\n",
       "      <td>0</td>\n",
       "      <td>1.0</td>\n",
       "      <td>0</td>\n",
       "      <td>0</td>\n",
       "      <td>1</td>\n",
       "      <td>0</td>\n",
       "      <td>0</td>\n",
       "      <td>0</td>\n",
       "      <td>1</td>\n",
       "      <td>0</td>\n",
       "      <td>0</td>\n",
       "      <td>0</td>\n",
       "    </tr>\n",
       "    <tr>\n",
       "      <th>5</th>\n",
       "      <td>0.0</td>\n",
       "      <td>3</td>\n",
       "      <td>1</td>\n",
       "      <td>0.371701</td>\n",
       "      <td>0.975813</td>\n",
       "      <td>0</td>\n",
       "      <td>1.0</td>\n",
       "      <td>0</td>\n",
       "      <td>1</td>\n",
       "      <td>0</td>\n",
       "      <td>0</td>\n",
       "      <td>0</td>\n",
       "      <td>0</td>\n",
       "      <td>1</td>\n",
       "      <td>0</td>\n",
       "      <td>0</td>\n",
       "      <td>0</td>\n",
       "    </tr>\n",
       "    <tr>\n",
       "      <th>6</th>\n",
       "      <td>0.0</td>\n",
       "      <td>1</td>\n",
       "      <td>1</td>\n",
       "      <td>0.673285</td>\n",
       "      <td>1.723148</td>\n",
       "      <td>1</td>\n",
       "      <td>1.0</td>\n",
       "      <td>0</td>\n",
       "      <td>0</td>\n",
       "      <td>1</td>\n",
       "      <td>0</td>\n",
       "      <td>0</td>\n",
       "      <td>0</td>\n",
       "      <td>1</td>\n",
       "      <td>0</td>\n",
       "      <td>0</td>\n",
       "      <td>0</td>\n",
       "    </tr>\n",
       "    <tr>\n",
       "      <th>7</th>\n",
       "      <td>0.0</td>\n",
       "      <td>3</td>\n",
       "      <td>1</td>\n",
       "      <td>0.019854</td>\n",
       "      <td>1.343901</td>\n",
       "      <td>0</td>\n",
       "      <td>0.0</td>\n",
       "      <td>0</td>\n",
       "      <td>0</td>\n",
       "      <td>1</td>\n",
       "      <td>1</td>\n",
       "      <td>0</td>\n",
       "      <td>0</td>\n",
       "      <td>0</td>\n",
       "      <td>0</td>\n",
       "      <td>0</td>\n",
       "      <td>0</td>\n",
       "    </tr>\n",
       "    <tr>\n",
       "      <th>8</th>\n",
       "      <td>1.0</td>\n",
       "      <td>3</td>\n",
       "      <td>0</td>\n",
       "      <td>0.334004</td>\n",
       "      <td>1.083979</td>\n",
       "      <td>0</td>\n",
       "      <td>0.0</td>\n",
       "      <td>0</td>\n",
       "      <td>0</td>\n",
       "      <td>1</td>\n",
       "      <td>0</td>\n",
       "      <td>0</td>\n",
       "      <td>0</td>\n",
       "      <td>0</td>\n",
       "      <td>1</td>\n",
       "      <td>0</td>\n",
       "      <td>0</td>\n",
       "    </tr>\n",
       "    <tr>\n",
       "      <th>9</th>\n",
       "      <td>1.0</td>\n",
       "      <td>2</td>\n",
       "      <td>0</td>\n",
       "      <td>0.170646</td>\n",
       "      <td>1.492352</td>\n",
       "      <td>0</td>\n",
       "      <td>0.0</td>\n",
       "      <td>1</td>\n",
       "      <td>0</td>\n",
       "      <td>0</td>\n",
       "      <td>0</td>\n",
       "      <td>0</td>\n",
       "      <td>0</td>\n",
       "      <td>0</td>\n",
       "      <td>1</td>\n",
       "      <td>0</td>\n",
       "      <td>0</td>\n",
       "    </tr>\n",
       "  </tbody>\n",
       "</table>\n",
       "</div>"
      ],
      "text/plain": [
       "   Survived  Pclass  Sex       Age      Fare  RecordedCabinNumber  isAlone  \\\n",
       "0       0.0       3    1  0.271174  0.916454                    0      0.0   \n",
       "1       1.0       1    0  0.472229  1.859038                    1      0.0   \n",
       "2       1.0       3    0  0.321438  0.950608                    0      1.0   \n",
       "3       1.0       1    0  0.434531  1.733197                    1      0.0   \n",
       "4       0.0       3    1  0.434531  0.956649                    0      1.0   \n",
       "5       0.0       3    1  0.371701  0.975813                    0      1.0   \n",
       "6       0.0       1    1  0.673285  1.723148                    1      1.0   \n",
       "7       0.0       3    1  0.019854  1.343901                    0      0.0   \n",
       "8       1.0       3    0  0.334004  1.083979                    0      0.0   \n",
       "9       1.0       2    0  0.170646  1.492352                    0      0.0   \n",
       "\n",
       "   Embarked_C  Embarked_Q  Embarked_S  Titles_Master  Titles_Military  \\\n",
       "0           0           0           1              0                0   \n",
       "1           1           0           0              0                0   \n",
       "2           0           0           1              0                0   \n",
       "3           0           0           1              0                0   \n",
       "4           0           0           1              0                0   \n",
       "5           0           1           0              0                0   \n",
       "6           0           0           1              0                0   \n",
       "7           0           0           1              1                0   \n",
       "8           0           0           1              0                0   \n",
       "9           1           0           0              0                0   \n",
       "\n",
       "   Titles_Miss  Titles_Mr  Titles_Mrs  Titles_Other  Titles_Royal  \n",
       "0            0          1           0             0             0  \n",
       "1            0          0           1             0             0  \n",
       "2            1          0           0             0             0  \n",
       "3            0          0           1             0             0  \n",
       "4            0          1           0             0             0  \n",
       "5            0          1           0             0             0  \n",
       "6            0          1           0             0             0  \n",
       "7            0          0           0             0             0  \n",
       "8            0          0           1             0             0  \n",
       "9            0          0           1             0             0  "
      ]
     },
     "execution_count": 52,
     "metadata": {},
     "output_type": "execute_result"
    }
   ],
   "source": [
    "# Ov\n",
    "combined.head(10)"
   ]
  },
  {
   "cell_type": "code",
   "execution_count": 53,
   "metadata": {},
   "outputs": [],
   "source": [
    "train_cleaned = combined.loc[:890, :]\n",
    "testing_cleaned = combined.loc[891:, :]"
   ]
  },
  {
   "cell_type": "code",
   "execution_count": 54,
   "metadata": {},
   "outputs": [],
   "source": [
    "testing_cleaned.drop('Survived', axis=1, inplace=True)"
   ]
  },
  {
   "cell_type": "code",
   "execution_count": 55,
   "metadata": {},
   "outputs": [],
   "source": [
    "train_cleaned.to_csv('train_cleaned.csv', index=False)"
   ]
  },
  {
   "cell_type": "code",
   "execution_count": 56,
   "metadata": {},
   "outputs": [],
   "source": [
    "testing_cleaned.to_csv('testing_cleaned.csv', index=False)"
   ]
  },
  {
   "cell_type": "markdown",
   "metadata": {},
   "source": [
    "## Final Step - Model Building"
   ]
  }
 ],
 "metadata": {
  "kernelspec": {
   "display_name": "Python 3",
   "language": "python",
   "name": "python3"
  },
  "language_info": {
   "codemirror_mode": {
    "name": "ipython",
    "version": 3
   },
   "file_extension": ".py",
   "mimetype": "text/x-python",
   "name": "python",
   "nbconvert_exporter": "python",
   "pygments_lexer": "ipython3",
   "version": "3.8.5"
  }
 },
 "nbformat": 4,
 "nbformat_minor": 4
}
